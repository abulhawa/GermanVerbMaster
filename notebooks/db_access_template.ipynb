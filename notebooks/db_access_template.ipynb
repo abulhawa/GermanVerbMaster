{
  "cells": [
    {
      "cell_type": "markdown",
      "metadata": {},
      "source": [
        "# Database Access Template\n",
        "\n",
        "Use this notebook to connect to the GermanVerbMaster database and explore it with ad-hoc SQL queries."
      ]
    },
    {
      "cell_type": "code",
      "execution_count": 1,
      "metadata": {},
      "outputs": [
        {
          "name": "stdout",
          "output_type": "stream",
          "text": [
            "Note: you may need to restart the kernel to use updated packages.\n"
          ]
        }
      ],
      "source": [
        "# Optional: install dependencies in the current kernel\n",
        "%pip install --quiet psycopg[binary] python-dotenv pandas"
      ]
    },
    {
      "cell_type": "code",
      "execution_count": 31,
      "metadata": {},
      "outputs": [
        {
          "name": "stdout",
          "output_type": "stream",
          "text": [
            "Loaded environment variables from C:\\Projects\\GermanVerbMaster\\.env\n",
            "Connected to database.\n"
          ]
        }
      ],
      "source": [
        "from pathlib import Path\n",
        "import os\n",
        "import json\n",
        "\n",
        "import psycopg\n",
        "from psycopg.rows import dict_row\n",
        "\n",
        "try:\n",
        "    from dotenv import load_dotenv\n",
        "except ImportError:\n",
        "    load_dotenv = None\n",
        "\n",
        "project_root = Path(\"..\").resolve()\n",
        "env_path = project_root / \".env\"\n",
        "if load_dotenv and env_path.exists():\n",
        "    load_dotenv(env_path)\n",
        "    print(f\"Loaded environment variables from {env_path}\")\n",
        "else:\n",
        "    if not load_dotenv:\n",
        "        print(\"python-dotenv is not installed; skipping .env loading.\")\n",
        "    elif not env_path.exists():\n",
        "        print(f\"No .env file found at {env_path}; relying on existing environment.\")\n",
        "\n",
        "database_url = os.environ.get(\"DATABASE_URL\")\n",
        "if not database_url:\n",
        "    raise RuntimeError(\"DATABASE_URL is not set. Update your environment or .env file before continuing.\")\n",
        "\n",
        "connection = psycopg.connect(database_url, autocommit=True, row_factory=dict_row)\n",
        "print(\"Connected to database.\")"
      ]
    },
    {
      "cell_type": "code",
      "execution_count": 4,
      "metadata": {},
      "outputs": [
        {
          "name": "stdout",
          "output_type": "stream",
          "text": [
            "Helper utilities ready.\n"
          ]
        }
      ],
      "source": [
        "try:\n",
        "    import pandas as pd\n",
        "except ImportError:\n",
        "    pd = None\n",
        "    print(\"pandas is not installed; DataFrame helpers will be unavailable until you install it.\")\n",
        "\n",
        "def run_query(sql: str, params: dict | None = None, *, fetch: str = \"all\", size: int | None = None):\n",
        "    \"\"\"Execute a SQL statement and return the requested result set.\"\"\"\n",
        "    params = params or {}\n",
        "    with connection.cursor() as cur:\n",
        "        cur.execute(sql, params)\n",
        "        if cur.description is None:\n",
        "            return None\n",
        "        if fetch == \"one\":\n",
        "            return cur.fetchone()\n",
        "        if fetch == \"many\":\n",
        "            return cur.fetchmany(size)\n",
        "        return cur.fetchall()\n",
        "\n",
        "def query_df(sql: str, params: dict | None = None, *, fetch: str = \"all\", size: int | None = None):\n",
        "    \"\"\"Execute a SQL statement and return the results as a pandas DataFrame.\"\"\"\n",
        "    if pd is None:\n",
        "        raise ImportError(\"Install pandas to use query_df (e.g. run `%pip install pandas`).\")\n",
        "    rows = run_query(sql, params=params, fetch=fetch, size=size)\n",
        "    return pd.DataFrame(rows)\n",
        "\n",
        "print(\"Helper utilities ready.\")"
      ]
    },
    {
      "cell_type": "code",
      "execution_count": 5,
      "metadata": {},
      "outputs": [
        {
          "data": {
            "text/plain": [
              "{'connected_at': datetime.datetime(2025, 10, 18, 10, 44, 54, 777795, tzinfo=datetime.timezone.utc)}"
            ]
          },
          "execution_count": 5,
          "metadata": {},
          "output_type": "execute_result"
        }
      ],
      "source": [
        "# Replace the query below with your own SQL.\n",
        "run_query(\"SELECT NOW() AS connected_at;\", fetch=\"one\")"
      ]
    },
    {
      "cell_type": "code",
      "execution_count": 119,
      "id": "723fcd68",
      "metadata": {},
      "outputs": [],
      "source": [
        "df = query_df(\"SELECT lemma, pos, english, plural, gender, example_de, example_en from words where (example_en is null or example_de is null or english is null or gender is null or plural is null) and pos = 'N' limit 205\")"
      ]
    },
    {
      "cell_type": "code",
      "execution_count": 120,
      "id": "c5af904a",
      "metadata": {},
      "outputs": [],
      "source": [
        "# df = df.rename(columns={\n",
        "#     \"example_de\": \"exampleDe\",\n",
        "#     \"example_en\": \"exampleEn\"\n",
        "# })"
      ]
    },
    {
      "cell_type": "code",
      "execution_count": 121,
      "id": "fa6cecba",
      "metadata": {},
      "outputs": [
        {
          "data": {
            "text/html": [
              "<div>\n",
              "<style scoped>\n",
              "    .dataframe tbody tr th:only-of-type {\n",
              "        vertical-align: middle;\n",
              "    }\n",
              "\n",
              "    .dataframe tbody tr th {\n",
              "        vertical-align: top;\n",
              "    }\n",
              "\n",
              "    .dataframe thead th {\n",
              "        text-align: right;\n",
              "    }\n",
              "</style>\n",
              "<table border=\"1\" class=\"dataframe\">\n",
              "  <thead>\n",
              "    <tr style=\"text-align: right;\">\n",
              "      <th></th>\n",
              "      <th>lemma</th>\n",
              "      <th>pos</th>\n",
              "      <th>english</th>\n",
              "      <th>plural</th>\n",
              "      <th>gender</th>\n",
              "      <th>example_de</th>\n",
              "      <th>example_en</th>\n",
              "    </tr>\n",
              "  </thead>\n",
              "  <tbody>\n",
              "    <tr>\n",
              "      <th>0</th>\n",
              "      <td>Rückfahrt</td>\n",
              "      <td>N</td>\n",
              "      <td>return trip</td>\n",
              "      <td>Rückfahrten</td>\n",
              "      <td>die</td>\n",
              "      <td>None</td>\n",
              "      <td>None</td>\n",
              "    </tr>\n",
              "    <tr>\n",
              "      <th>1</th>\n",
              "      <td>Zuschauerin</td>\n",
              "      <td>N</td>\n",
              "      <td>None</td>\n",
              "      <td>None</td>\n",
              "      <td>die</td>\n",
              "      <td>None</td>\n",
              "      <td>None</td>\n",
              "    </tr>\n",
              "    <tr>\n",
              "      <th>2</th>\n",
              "      <td>Arbeiter</td>\n",
              "      <td>N</td>\n",
              "      <td>None</td>\n",
              "      <td>None</td>\n",
              "      <td>der</td>\n",
              "      <td>None</td>\n",
              "      <td>None</td>\n",
              "    </tr>\n",
              "    <tr>\n",
              "      <th>3</th>\n",
              "      <td>Mobilbox</td>\n",
              "      <td>N</td>\n",
              "      <td>None</td>\n",
              "      <td>None</td>\n",
              "      <td>die</td>\n",
              "      <td>None</td>\n",
              "      <td>None</td>\n",
              "    </tr>\n",
              "    <tr>\n",
              "      <th>4</th>\n",
              "      <td>Absender</td>\n",
              "      <td>N</td>\n",
              "      <td>sender</td>\n",
              "      <td>Absender</td>\n",
              "      <td>die</td>\n",
              "      <td>None</td>\n",
              "      <td>None</td>\n",
              "    </tr>\n",
              "  </tbody>\n",
              "</table>\n",
              "</div>"
            ],
            "text/plain": [
              "         lemma pos      english       plural gender example_de example_en\n",
              "0    Rückfahrt   N  return trip  Rückfahrten    die       None       None\n",
              "1  Zuschauerin   N         None         None    die       None       None\n",
              "2     Arbeiter   N         None         None    der       None       None\n",
              "3     Mobilbox   N         None         None    die       None       None\n",
              "4     Absender   N       sender     Absender    die       None       None"
            ]
          },
          "execution_count": 121,
          "metadata": {},
          "output_type": "execute_result"
        }
      ],
      "source": [
        "df.head()"
      ]
    },
    {
      "cell_type": "code",
      "execution_count": 122,
      "id": "829bdbdc",
      "metadata": {},
      "outputs": [
        {
          "data": {
            "text/plain": [
              "205"
            ]
          },
          "execution_count": 122,
          "metadata": {},
          "output_type": "execute_result"
        }
      ],
      "source": [
        "len(df)"
      ]
    },
    {
      "cell_type": "code",
      "execution_count": 123,
      "id": "a9d30b61",
      "metadata": {},
      "outputs": [
        {
          "data": {
            "text/html": [
              "<div>\n",
              "<style scoped>\n",
              "    .dataframe tbody tr th:only-of-type {\n",
              "        vertical-align: middle;\n",
              "    }\n",
              "\n",
              "    .dataframe tbody tr th {\n",
              "        vertical-align: top;\n",
              "    }\n",
              "\n",
              "    .dataframe thead th {\n",
              "        text-align: right;\n",
              "    }\n",
              "</style>\n",
              "<table border=\"1\" class=\"dataframe\">\n",
              "  <thead>\n",
              "    <tr style=\"text-align: right;\">\n",
              "      <th></th>\n",
              "      <th>lemma</th>\n",
              "      <th>pos</th>\n",
              "      <th>english</th>\n",
              "      <th>plural</th>\n",
              "      <th>gender</th>\n",
              "      <th>example_de</th>\n",
              "      <th>example_en</th>\n",
              "    </tr>\n",
              "  </thead>\n",
              "  <tbody>\n",
              "    <tr>\n",
              "      <th>1</th>\n",
              "      <td>Zuschauerin</td>\n",
              "      <td>N</td>\n",
              "      <td>None</td>\n",
              "      <td>None</td>\n",
              "      <td>die</td>\n",
              "      <td>None</td>\n",
              "      <td>None</td>\n",
              "    </tr>\n",
              "    <tr>\n",
              "      <th>2</th>\n",
              "      <td>Arbeiter</td>\n",
              "      <td>N</td>\n",
              "      <td>None</td>\n",
              "      <td>None</td>\n",
              "      <td>der</td>\n",
              "      <td>None</td>\n",
              "      <td>None</td>\n",
              "    </tr>\n",
              "    <tr>\n",
              "      <th>3</th>\n",
              "      <td>Mobilbox</td>\n",
              "      <td>N</td>\n",
              "      <td>None</td>\n",
              "      <td>None</td>\n",
              "      <td>die</td>\n",
              "      <td>None</td>\n",
              "      <td>None</td>\n",
              "    </tr>\n",
              "    <tr>\n",
              "      <th>6</th>\n",
              "      <td>Beamte</td>\n",
              "      <td>N</td>\n",
              "      <td>None</td>\n",
              "      <td>None</td>\n",
              "      <td>der, die</td>\n",
              "      <td>None</td>\n",
              "      <td>None</td>\n",
              "    </tr>\n",
              "    <tr>\n",
              "      <th>7</th>\n",
              "      <td>Deutsche</td>\n",
              "      <td>N</td>\n",
              "      <td>None</td>\n",
              "      <td>None</td>\n",
              "      <td>die, der</td>\n",
              "      <td>None</td>\n",
              "      <td>None</td>\n",
              "    </tr>\n",
              "    <tr>\n",
              "      <th>...</th>\n",
              "      <td>...</td>\n",
              "      <td>...</td>\n",
              "      <td>...</td>\n",
              "      <td>...</td>\n",
              "      <td>...</td>\n",
              "      <td>...</td>\n",
              "      <td>...</td>\n",
              "    </tr>\n",
              "    <tr>\n",
              "      <th>159</th>\n",
              "      <td>Durst</td>\n",
              "      <td>N</td>\n",
              "      <td>thirst</td>\n",
              "      <td>None</td>\n",
              "      <td>der</td>\n",
              "      <td>None</td>\n",
              "      <td>None</td>\n",
              "    </tr>\n",
              "    <tr>\n",
              "      <th>169</th>\n",
              "      <td>Fleisch</td>\n",
              "      <td>N</td>\n",
              "      <td>flesh</td>\n",
              "      <td>None</td>\n",
              "      <td>das</td>\n",
              "      <td>None</td>\n",
              "      <td>None</td>\n",
              "    </tr>\n",
              "    <tr>\n",
              "      <th>174</th>\n",
              "      <td>Erwachsene</td>\n",
              "      <td>N</td>\n",
              "      <td>None</td>\n",
              "      <td>None</td>\n",
              "      <td>die, der</td>\n",
              "      <td>None</td>\n",
              "      <td>None</td>\n",
              "    </tr>\n",
              "    <tr>\n",
              "      <th>176</th>\n",
              "      <td>Fahrer</td>\n",
              "      <td>N</td>\n",
              "      <td>None</td>\n",
              "      <td>None</td>\n",
              "      <td>der</td>\n",
              "      <td>None</td>\n",
              "      <td>None</td>\n",
              "    </tr>\n",
              "    <tr>\n",
              "      <th>198</th>\n",
              "      <td>Glück</td>\n",
              "      <td>N</td>\n",
              "      <td>happiness, joy, bliss (state or emotion)</td>\n",
              "      <td>None</td>\n",
              "      <td>das</td>\n",
              "      <td>Das größte Glück im Leben ist es, geliebt zu w...</td>\n",
              "      <td>The greatest joy in life is to be loved.</td>\n",
              "    </tr>\n",
              "  </tbody>\n",
              "</table>\n",
              "<p>71 rows × 7 columns</p>\n",
              "</div>"
            ],
            "text/plain": [
              "           lemma pos                                   english plural  \\\n",
              "1    Zuschauerin   N                                      None   None   \n",
              "2       Arbeiter   N                                      None   None   \n",
              "3       Mobilbox   N                                      None   None   \n",
              "6         Beamte   N                                      None   None   \n",
              "7       Deutsche   N                                      None   None   \n",
              "..           ...  ..                                       ...    ...   \n",
              "159        Durst   N                                    thirst   None   \n",
              "169      Fleisch   N                                     flesh   None   \n",
              "174   Erwachsene   N                                      None   None   \n",
              "176       Fahrer   N                                      None   None   \n",
              "198        Glück   N  happiness, joy, bliss (state or emotion)   None   \n",
              "\n",
              "       gender                                         example_de  \\\n",
              "1         die                                               None   \n",
              "2         der                                               None   \n",
              "3         die                                               None   \n",
              "6    der, die                                               None   \n",
              "7    die, der                                               None   \n",
              "..        ...                                                ...   \n",
              "159       der                                               None   \n",
              "169       das                                               None   \n",
              "174  die, der                                               None   \n",
              "176       der                                               None   \n",
              "198       das  Das größte Glück im Leben ist es, geliebt zu w...   \n",
              "\n",
              "                                   example_en  \n",
              "1                                        None  \n",
              "2                                        None  \n",
              "3                                        None  \n",
              "6                                        None  \n",
              "7                                        None  \n",
              "..                                        ...  \n",
              "159                                      None  \n",
              "169                                      None  \n",
              "174                                      None  \n",
              "176                                      None  \n",
              "198  The greatest joy in life is to be loved.  \n",
              "\n",
              "[71 rows x 7 columns]"
            ]
          },
          "execution_count": 123,
          "metadata": {},
          "output_type": "execute_result"
        }
      ],
      "source": [
        "df[df.plural.isnull()]"
      ]
    },
    {
      "cell_type": "code",
      "execution_count": 124,
      "id": "bd7afb05",
      "metadata": {},
      "outputs": [],
      "source": [
        "# df.to_json('temp.json', orient=\"records\", indent=2)"
      ]
    },
    {
      "cell_type": "code",
      "execution_count": 125,
      "id": "9f59558e",
      "metadata": {},
      "outputs": [],
      "source": [
        "records = df.to_dict(orient=\"records\")\n",
        "\n",
        "# Wrap it into your target structure\n",
        "wrapped = {\n",
        "    \"providerId\": \"manual\",\n",
        "    \"providerLabel\": \"Community Import\",\n",
        "    \"mode\": \"approved\",\n",
        "    \"applyMode\": \"merge\",\n",
        "    \"entries\": records\n",
        "}\n",
        "\n",
        "# Export to formatted multi-line JSON file\n",
        "with open(\"../temp.json\", \"w\", encoding=\"utf-8\") as f:\n",
        "    json.dump(wrapped, f, ensure_ascii=False, indent=2)"
      ]
    },
    {
      "cell_type": "code",
      "execution_count": null,
      "id": "b8e9acde",
      "metadata": {},
      "outputs": [],
      "source": []
    }
  ],
  "metadata": {
    "kernelspec": {
      "display_name": "play",
      "language": "python",
      "name": "python3"
    },
    "language_info": {
      "codemirror_mode": {
        "name": "ipython",
        "version": 3
      },
      "file_extension": ".py",
      "mimetype": "text/x-python",
      "name": "python",
      "nbconvert_exporter": "python",
      "pygments_lexer": "ipython3",
      "version": "3.12.3"
    }
  },
  "nbformat": 4,
  "nbformat_minor": 5
}
