{
  "cells": [
    {
      "cell_type": "markdown",
      "metadata": {},
      "source": [
        "# Database Access Template\n",
        "\n",
        "Use this notebook to connect to the GermanVerbMaster database and explore it with ad-hoc SQL queries."
      ]
    },
    {
      "cell_type": "code",
      "execution_count": 147,
      "metadata": {},
      "outputs": [],
      "source": [
        "# Optional: install dependencies in the current kernel\n",
        "# %pip install --quiet psycopg[binary] python-dotenv pandas"
      ]
    },
    {
      "cell_type": "code",
      "execution_count": 148,
      "metadata": {},
      "outputs": [
        {
          "name": "stdout",
          "output_type": "stream",
          "text": [
            "Loaded environment variables from C:\\Projects\\GermanVerbMaster\\.env\n",
            "Connected to database.\n"
          ]
        }
      ],
      "source": [
        "from pathlib import Path\n",
        "import os\n",
        "import json\n",
        "\n",
        "import psycopg\n",
        "from psycopg.rows import dict_row\n",
        "\n",
        "try:\n",
        "    from dotenv import load_dotenv\n",
        "except ImportError:\n",
        "    load_dotenv = None\n",
        "\n",
        "project_root = Path(\"..\").resolve()\n",
        "env_path = project_root / \".env\"\n",
        "if load_dotenv and env_path.exists():\n",
        "    load_dotenv(env_path)\n",
        "    print(f\"Loaded environment variables from {env_path}\")\n",
        "else:\n",
        "    if not load_dotenv:\n",
        "        print(\"python-dotenv is not installed; skipping .env loading.\")\n",
        "    elif not env_path.exists():\n",
        "        print(f\"No .env file found at {env_path}; relying on existing environment.\")\n",
        "\n",
        "database_url = os.environ.get(\"DATABASE_URL\")\n",
        "if not database_url:\n",
        "    raise RuntimeError(\"DATABASE_URL is not set. Update your environment or .env file before continuing.\")\n",
        "\n",
        "connection = psycopg.connect(database_url, autocommit=True, row_factory=dict_row)\n",
        "print(\"Connected to database.\")"
      ]
    },
    {
      "cell_type": "code",
      "execution_count": 149,
      "metadata": {},
      "outputs": [
        {
          "name": "stdout",
          "output_type": "stream",
          "text": [
            "Helper utilities ready.\n"
          ]
        }
      ],
      "source": [
        "try:\n",
        "    import pandas as pd\n",
        "except ImportError:\n",
        "    pd = None\n",
        "    print(\"pandas is not installed; DataFrame helpers will be unavailable until you install it.\")\n",
        "\n",
        "def run_query(sql: str, params: dict | None = None, *, fetch: str = \"all\", size: int | None = None):\n",
        "    \"\"\"Execute a SQL statement and return the requested result set.\"\"\"\n",
        "    params = params or {}\n",
        "    with connection.cursor() as cur:\n",
        "        cur.execute(sql, params)\n",
        "        if cur.description is None:\n",
        "            return None\n",
        "        if fetch == \"one\":\n",
        "            return cur.fetchone()\n",
        "        if fetch == \"many\":\n",
        "            return cur.fetchmany(size)\n",
        "        return cur.fetchall()\n",
        "\n",
        "def query_df(sql: str, params: dict | None = None, *, fetch: str = \"all\", size: int | None = None):\n",
        "    \"\"\"Execute a SQL statement and return the results as a pandas DataFrame.\"\"\"\n",
        "    if pd is None:\n",
        "        raise ImportError(\"Install pandas to use query_df (e.g. run `%pip install pandas`).\")\n",
        "    rows = run_query(sql, params=params, fetch=fetch, size=size)\n",
        "    return pd.DataFrame(rows)\n",
        "\n",
        "print(\"Helper utilities ready.\")"
      ]
    },
    {
      "cell_type": "code",
      "execution_count": 150,
      "metadata": {},
      "outputs": [
        {
          "data": {
            "text/plain": [
              "{'connected_at': datetime.datetime(2025, 10, 18, 22, 13, 25, 900542, tzinfo=datetime.timezone.utc)}"
            ]
          },
          "execution_count": 150,
          "metadata": {},
          "output_type": "execute_result"
        }
      ],
      "source": [
        "# Replace the query below with your own SQL.\n",
        "run_query(\"SELECT NOW() AS connected_at;\", fetch=\"one\")"
      ]
    },
    {
      "cell_type": "code",
      "execution_count": 163,
      "id": "723fcd68",
      "metadata": {},
      "outputs": [],
      "source": [
        "df = query_df(\"SELECT lemma, pos, english, plural, gender, example_de, example_en from words where (example_en is null or example_de is null or english is null or gender is null or plural is null) and pos = 'N' limit 202\")"
      ]
    },
    {
      "cell_type": "code",
      "execution_count": 164,
      "id": "c5af904a",
      "metadata": {},
      "outputs": [],
      "source": [
        "df = df.rename(columns={\n",
        "    \"example_de\": \"exampleDe\",\n",
        "    \"example_en\": \"exampleEn\"\n",
        "})"
      ]
    },
    {
      "cell_type": "code",
      "execution_count": 165,
      "id": "829bdbdc",
      "metadata": {},
      "outputs": [
        {
          "data": {
            "text/plain": [
              "202"
            ]
          },
          "execution_count": 165,
          "metadata": {},
          "output_type": "execute_result"
        }
      ],
      "source": [
        "len(df)"
      ]
    },
    {
      "cell_type": "code",
      "execution_count": 166,
      "id": "9f59558e",
      "metadata": {},
      "outputs": [],
      "source": [
        "records = df.to_dict(orient=\"records\")\n",
        "\n",
        "# Wrap it into your target structure\n",
        "wrapped = {\n",
        "    \"providerId\": \"manual\",\n",
        "    \"providerLabel\": \"Community Import\",\n",
        "    \"mode\": \"approved\",\n",
        "    \"applyMode\": \"merge\",\n",
        "    \"entries\": records\n",
        "}\n",
        "\n",
        "# Export to formatted multi-line JSON file\n",
        "with open(\"../temp.json\", \"w\", encoding=\"utf-8\") as f:\n",
        "    json.dump(wrapped, f, ensure_ascii=False, indent=2)"
      ]
    },
    {
      "cell_type": "code",
      "execution_count": null,
      "id": "b8e9acde",
      "metadata": {},
      "outputs": [],
      "source": []
    }
  ],
  "metadata": {
    "kernelspec": {
      "display_name": "play",
      "language": "python",
      "name": "python3"
    },
    "language_info": {
      "codemirror_mode": {
        "name": "ipython",
        "version": 3
      },
      "file_extension": ".py",
      "mimetype": "text/x-python",
      "name": "python",
      "nbconvert_exporter": "python",
      "pygments_lexer": "ipython3",
      "version": "3.12.3"
    }
  },
  "nbformat": 4,
  "nbformat_minor": 5
}
